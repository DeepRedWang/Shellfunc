{
 "cells": [
  {
   "cell_type": "code",
   "execution_count": 69,
   "id": "f1f24ec6-d0ce-4bee-b834-7c9c17fdb07a",
   "metadata": {},
   "outputs": [
    {
     "data": {
      "application/vnd.jupyter.widget-view+json": {
       "model_id": "e07903a9e23d409fb3d510fd690e94dd",
       "version_major": 2,
       "version_minor": 0
      },
      "text/plain": [
       "ToggleButton(value=False, button_style='danger', description='Stop', icon='square', tooltip='Description')"
      ]
     },
     "metadata": {},
     "output_type": "display_data"
    },
    {
     "data": {
      "application/vnd.jupyter.widget-view+json": {
       "model_id": "b236265c6b1049409fef8c1e0ab1510e",
       "version_major": 2,
       "version_minor": 0
      },
      "text/plain": [
       "Image(value=b'\\xff\\xd8\\xff\\xe0\\x00\\x10JFIF\\x00\\x01\\x01\\x00\\x00\\x01\\x00\\x01\\x00\\x00\\xff\\xdb\\x00C\\x00\\x02\\x01\\x0…"
      ]
     },
     "metadata": {},
     "output_type": "display_data"
    }
   ],
   "source": [
    "import ipywidgets\n",
    "import cv2\n",
    "from IPython.display import display, Audio\n",
    "import threading\n",
    "import time\n",
    "def bgr8_to_jpeg(value, quality=75):\n",
    "    return bytes(cv2.imencode('.jpeg', value)[1])\n",
    "\n",
    "stopButton = ipywidgets.ToggleButton(\n",
    "    value=False,\n",
    "    description='Stop',\n",
    "    disabled=False,\n",
    "    button_style='danger', # 'success', 'info', 'warning', 'danger' or ''\n",
    "    tooltip='Description',\n",
    "    icon='square' # (FontAwesome names without the `fa-` prefix)\n",
    ")\n",
    "\n",
    "def view(button):\n",
    "    camera = cv2.VideoCapture(0)\n",
    "    image_widget = ipywidgets.Image(format='jpeg')\n",
    "    _, img = camera.read()\n",
    "    img = cv2.resize(img, None, fx=0.5, fy=0.5, interpolation=cv2.INTER_NEAREST)\n",
    "    # image_widget.value = Audio(img)\n",
    "    image_widget.value = bgr8_to_jpeg(img)\n",
    "    display(image_widget)\n",
    "\n",
    "    while True:\n",
    "        _, img = camera.read()\n",
    "        time.sleep(0.1)\n",
    "        img = cv2.resize(img, None, fx=0.5, fy=0.5, interpolation=cv2.INTER_NEAREST)\n",
    "        image_widget.value = bgr8_to_jpeg(img)\n",
    "        if stopButton.value==True:\n",
    "            cap.release()\n",
    "            image_widget.value = None\n",
    "    \n",
    "display(stopButton)\n",
    "thread = threading.Thread(target=view, args=(stopButton,))\n",
    "thread.start()"
   ]
  },
  {
   "cell_type": "code",
   "execution_count": null,
   "id": "df17eec1-9800-4171-9ef9-9a4787b916fc",
   "metadata": {},
   "outputs": [],
   "source": []
  }
 ],
 "metadata": {
  "kernelspec": {
   "display_name": "Python 3 (ipykernel)",
   "language": "python",
   "name": "python3"
  },
  "language_info": {
   "codemirror_mode": {
    "name": "ipython",
    "version": 3
   },
   "file_extension": ".py",
   "mimetype": "text/x-python",
   "name": "python",
   "nbconvert_exporter": "python",
   "pygments_lexer": "ipython3",
   "version": "3.9.0"
  }
 },
 "nbformat": 4,
 "nbformat_minor": 5
}
